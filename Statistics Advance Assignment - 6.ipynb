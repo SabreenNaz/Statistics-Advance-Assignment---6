{
 "cells": [
  {
   "cell_type": "markdown",
   "id": "847adbb7-db76-4977-981e-bb4bb638709c",
   "metadata": {},
   "source": [
    "Q1. Explain the assumptions required to use ANOVA and provide examples of violations that could impact\n",
    "the validity of the results."
   ]
  },
  {
   "cell_type": "markdown",
   "id": "feb79a3d-f34f-4e60-a89c-b3b4938b73da",
   "metadata": {},
   "source": [
    "#Answer\n",
    "\n",
    "\n",
    "Analysis of Variance (ANOVA) is a statistical method used to compare means among two or more groups. However, ANOVA makes certain assumptions about the data, and violations of these assumptions can affect the validity of the results. The key assumptions of ANOVA are:\n",
    "\n",
    "1. Normality:\n",
    "The data within each group should be approximately normally distributed. This assumption is more critical with smaller sample sizes.\n",
    "\n",
    "* Violation Example: If the data in one or more groups is not normally distributed, it may lead to inaccurate results. For instance, if the data is heavily skewed or has outliers, it can affect the validity of ANOVA.\n",
    "\n",
    "\n",
    "2.  Homogeneity of Variance (Homoscedasticity): The variance (spread) of the data should be approximately equal across all groups. This assumption is important because ANOVA is sensitive to unequal variances.\n",
    "\n",
    "* Violation Example: If the variances are not equal across groups, the F-test used in ANOVA may be invalid. This can occur when the spread of scores in one group is much larger or smaller than in another.\n",
    "\n",
    "3. Independence: The observations in each group should be independent of each other. This means that the value of one observation should not be influenced by the value of any other observation.\n",
    "\n",
    "* Violation Example: If there is dependence among observations (e.g., repeated measures or nested data), it can violate the independence assumption. This could lead to increased Type I errors and inaccurate conclusions.\n",
    "\n",
    "\n",
    "4. Random Sampling: Ideally, the data points in each group should be randomly selected from the population. This assumption ensures that the sample is representative of the population.\n",
    "\n",
    "* Violation Example: If the sampling is not random, and certain subgroups are overrepresented or underrepresented, the generalizability of the results may be compromised.\n",
    "\n",
    "5. Interval or Ratio Data: ANOVA assumes that the dependent variable is measured on an interval or ratio scale.\n",
    "\n",
    "* Violation Example: If the dependent variable is measured on a nominal or ordinal scale, using ANOVA would be inappropriate. In such cases, alternative non-parametric tests might be more suitable.\n",
    "\n",
    "\n",
    "It's important to note that ANOVA is robust to violations of normality and homogeneity of variance, especially with larger sample sizes. However, researchers should be cautious and consider alternative methods if assumptions are severely violated, or if the sample size is small. Additionally, visual inspection of data, such as Q-Q plots and residual plots, can help assess the assumptions and identify potential issues.\n",
    "\n"
   ]
  },
  {
   "cell_type": "markdown",
   "id": "d768ab2e-88b4-43b3-a1dd-6c72edbb4923",
   "metadata": {},
   "source": [
    "                      -------------------------------------------------------------------"
   ]
  },
  {
   "cell_type": "markdown",
   "id": "491180f2-5135-481c-9aa5-c7f7f6e92a5f",
   "metadata": {},
   "source": [
    "Q2. What are the three types of ANOVA, and in what situations would each be used?"
   ]
  },
  {
   "cell_type": "markdown",
   "id": "5c3072cb-060a-42a1-8ae7-d520257adb1d",
   "metadata": {},
   "source": [
    "#Answer\n",
    "\n",
    "\n",
    "Analysis of Variance (ANOVA) is a statistical technique that compares means among groups. There are three main types of ANOVA, each suitable for different experimental designs and research questions:\n",
    "\n",
    "1. One-Way ANOVA:\n",
    "\n",
    "* Use Case: One-Way ANOVA is used when there is one independent variable (factor) with more than two levels (groups). It is designed to test whether there are any statistically significant differences among the means of the groups.\n",
    "\n",
    "* Example: Imagine an experiment where you are testing the effectiveness of three different teaching methods (A, B, and C) on student performance. One-Way ANOVA would be appropriate to determine if there are significant differences in the mean scores of students across the three teaching methods.\n",
    "\n",
    "2. Two-Way ANOVA:\n",
    "\n",
    "* Use Case: Two-Way ANOVA is an extension of One-Way ANOVA and is used when there are two independent variables (factors) that can influence the dependent variable. It assesses the main effects of each independent variable and the interaction between them.\n",
    "\n",
    "* Example: Consider a study investigating the impact of both gender (male/female) and treatment type (X, Y, Z) on blood pressure. Two-Way ANOVA could be employed to examine the main effects of gender and treatment type as well as the interaction effect between gender and treatment.\n",
    "\n",
    "3. Repeated Measures ANOVA:\n",
    "\n",
    "* Use Case: Repeated Measures ANOVA is used when the same subjects are used for each treatment (repeated measurements) or when measurements are taken at multiple time points. It is designed to assess whether there are any significant differences across the levels of a within-subjects factor.\n",
    "\n",
    "* Example: Suppose you are studying the effects of a drug over time, measuring the blood pressure of the same individuals at different time points (baseline, 1 week, 2 weeks, etc.). Repeated Measures ANOVA would be appropriate to analyze whether there are significant changes in blood pressure over time.\n",
    "\n",
    "Each type of ANOVA has its own assumptions and requirements, and the choice of which to use depends on the experimental design and research question. It's important to select the appropriate ANOVA method to ensure accurate and meaningful results in statistical analysis."
   ]
  },
  {
   "cell_type": "markdown",
   "id": "61e7fe27-1fe2-442b-9990-ddf2b4958328",
   "metadata": {},
   "source": [
    "                      -------------------------------------------------------------------"
   ]
  },
  {
   "cell_type": "markdown",
   "id": "ee58e8fc-6392-4da0-a0c9-2443f93e661c",
   "metadata": {},
   "source": [
    "Q3. What is the partitioning of variance in ANOVA, and why is it important to understand this concept?"
   ]
  },
  {
   "cell_type": "markdown",
   "id": "f5c3d0b8-602a-4384-b320-a097c03f0250",
   "metadata": {},
   "source": [
    "#Answer\n",
    "\n",
    "The partitioning of variance in Analysis of Variance (ANOVA) refers to the division of the total variability in the data into different components that can be attributed to specific sources or factors. Understanding this concept is crucial because it allows researchers to quantify the contribution of each factor to the overall variability in the dependent variable. The partitioning of variance is fundamental to the F-test used in ANOVA, which assesses whether the differences among group means are statistically significant.\n",
    "\n",
    "The total variance in the data is decomposed into three main components in a one-way ANOVA:\n",
    "\n",
    "1. Between-Group Variance (SSB or SSBetween): This component represents the variability in the means of different groups. It is calculated by measuring the differences between the individual group means and the overall mean of all observations.\n",
    "\n",
    "2. Within-Group Variance (SSW or SSWithin): This component represents the variability within each group. It is calculated by summing the squared deviations of individual observations from their respective group means.\n",
    "\n",
    "3. Total Variance (SSTotal or SSW + SSB): This is the overall variability in the entire dataset, encompassing both the between-group and within-group variability.\n",
    "\n",
    "The formula for the F-statistic in ANOVA involves the ratio of the Between-Group Variance to the Within-Group Variance. Mathematically, it can be expressed as:\n",
    "\n",
    "\n",
    "F= SSB/(k−1) / SSW/(N−k)\n",
    "\n",
    "where:\n",
    "\n",
    "SSB is the sum of squares between groups.\n",
    "\n",
    "SSW is the sum of squares within groups.\n",
    "\n",
    "k is the number of groups.\n",
    "\n",
    "N is the total number of observations.\n",
    "\n",
    "The F-statistic follows an F-distribution under the null hypothesis that there are no true differences among group means. A significant F-statistic suggests that there are differences among group means, prompting further investigation into specific group differences.\n",
    "\n",
    "Understanding the partitioning of variance is important for several reasons:\n",
    "\n",
    "* Interpretation of Results: Knowing how much of the total variability is explained by between-group differences versus within-group variability helps in interpreting the significance of group differences.\n",
    "\n",
    "* Effect Size: The partitioning of variance allows researchers to compute effect size measures, such as eta-squared (n**2)which quantify the proportion of total variance attributable to the independent variable.\n",
    "\n",
    "* Research Design and Planning: It assists in designing experiments and planning studies by highlighting the sources of variability that should be considered.\n",
    "\n",
    "In summary, the partitioning of variance in ANOVA is a critical concept that underlies the statistical analysis of group differences, providing insight into the contributions of different factors to the overall variability in the data.\n",
    "\n"
   ]
  },
  {
   "cell_type": "markdown",
   "id": "ab68aa9b-06e7-48ba-9454-ab662e3c7fc2",
   "metadata": {},
   "source": [
    "                      -------------------------------------------------------------------"
   ]
  },
  {
   "cell_type": "markdown",
   "id": "603d8454-0f91-4c58-9047-9330eaa2c9b0",
   "metadata": {},
   "source": [
    "Q4. How would you calculate the total sum of squares (SST), explained sum of squares (SSE), and residual\n",
    "sum of squares (SSR) in a one-way ANOVA using Python?"
   ]
  },
  {
   "cell_type": "code",
   "execution_count": 1,
   "id": "d01c6029-65e5-4fe4-aa1a-cd5c9feb57f6",
   "metadata": {},
   "outputs": [
    {
     "name": "stdout",
     "output_type": "stream",
     "text": [
      "F-statistic: 40.97563597701803\n",
      "P-value: 2.893768135071631e-13\n",
      "Total Sum of Squares (SST): 3746.484918509512\n",
      "Explained Sum of Squares (SSE): 1817.2648295420722\n",
      "Residual Sum of Squares (SSR): 1929.22008896744\n"
     ]
    }
   ],
   "source": [
    "#Answer\n",
    "\n",
    "import numpy as np\n",
    "from scipy import stats\n",
    "\n",
    "# Generate example data for three groups\n",
    "np.random.seed(42)  # Setting seed for reproducibility\n",
    "group1 = np.random.normal(20, 5, 30)\n",
    "group2 = np.random.normal(25, 5, 30)\n",
    "group3 = np.random.normal(30, 5, 30)\n",
    "\n",
    "# Combine data into a single array\n",
    "data = np.concatenate([group1, group2, group3])\n",
    "\n",
    "# Create group labels for each observation\n",
    "labels = np.repeat(['Group 1', 'Group 2', 'Group 3'], 30)\n",
    "\n",
    "# One-way ANOVA\n",
    "f_statistic, p_value = stats.f_oneway(group1, group2, group3)\n",
    "\n",
    "# Calculate means\n",
    "mean_total = np.mean(data)\n",
    "mean_group1 = np.mean(group1)\n",
    "mean_group2 = np.mean(group2)\n",
    "mean_group3 = np.mean(group3)\n",
    "\n",
    "# Calculate Total Sum of Squares (SST)\n",
    "sst = np.sum((data - mean_total)**2)\n",
    "\n",
    "# Calculate Explained Sum of Squares (SSE)\n",
    "sse = np.sum([30 * (mean_group1 - mean_total)**2,\n",
    "              30 * (mean_group2 - mean_total)**2,\n",
    "              30 * (mean_group3 - mean_total)**2])\n",
    "\n",
    "# Calculate Residual Sum of Squares (SSR)\n",
    "ssr = sst - sse\n",
    "\n",
    "# Display results\n",
    "print(f'F-statistic: {f_statistic}')\n",
    "print(f'P-value: {p_value}')\n",
    "print(f'Total Sum of Squares (SST): {sst}')\n",
    "print(f'Explained Sum of Squares (SSE): {sse}')\n",
    "print(f'Residual Sum of Squares (SSR): {ssr}')\n"
   ]
  },
  {
   "cell_type": "markdown",
   "id": "cefbaf43-6ff9-49ad-b189-2a56c6f188e8",
   "metadata": {},
   "source": [
    "                      -------------------------------------------------------------------"
   ]
  },
  {
   "cell_type": "markdown",
   "id": "d83dbde1-120b-428e-9820-73b17987c381",
   "metadata": {},
   "source": [
    "Q5. In a two-way ANOVA, how would you calculate the main effects and interaction effects using Python?"
   ]
  },
  {
   "cell_type": "code",
   "execution_count": 2,
   "id": "c67726a7-8ae8-46db-b04c-93fda859241d",
   "metadata": {},
   "outputs": [
    {
     "name": "stdout",
     "output_type": "stream",
     "text": [
      "             sum_sq    df         F    PR(>F)\n",
      "A          0.628693   2.0  0.344485  0.709581\n",
      "B          0.119766   1.0  0.131248  0.718051\n",
      "A:B        0.398098   2.0  0.218133  0.804472\n",
      "Residual  76.650940  84.0       NaN       NaN\n",
      "\n",
      "Main Effect A: 0.3143465411436122\n",
      "Main Effect B: 0.11976569047119956\n",
      "Interaction Effect: 0.19904914027498796\n"
     ]
    }
   ],
   "source": [
    "#Answer\n",
    "\n",
    "import pandas as pd\n",
    "import statsmodels.api as sm\n",
    "from statsmodels.formula.api import ols\n",
    "\n",
    "# Generate example data for a two-way ANOVA\n",
    "np.random.seed(42)\n",
    "\n",
    "# Create a DataFrame with random data\n",
    "data = pd.DataFrame({\n",
    "    'A': np.repeat(['A1', 'A2', 'A3'], 30),\n",
    "    'B': np.tile(['B1', 'B2'], 45),\n",
    "    'Value': np.random.normal(0, 1, 90)\n",
    "})\n",
    "\n",
    "# Fit the two-way ANOVA model\n",
    "model = ols('Value ~ A + B + A:B', data=data).fit()\n",
    "anova_table = sm.stats.anova_lm(model, typ=2)  # typ=2 for type 2 sum of squares\n",
    "\n",
    "# Extract main effects and interaction effect\n",
    "main_effect_A = anova_table['sum_sq']['A'] / anova_table['df']['A']\n",
    "main_effect_B = anova_table['sum_sq']['B'] / anova_table['df']['B']\n",
    "interaction_effect = anova_table['sum_sq']['A:B'] / anova_table['df']['A:B']\n",
    "\n",
    "# Display results\n",
    "print(anova_table)\n",
    "print(f'\\nMain Effect A: {main_effect_A}')\n",
    "print(f'Main Effect B: {main_effect_B}')\n",
    "print(f'Interaction Effect: {interaction_effect}')\n"
   ]
  },
  {
   "cell_type": "markdown",
   "id": "4bd56842-96dd-463e-9a53-abe5f7acc2c6",
   "metadata": {},
   "source": [
    "                       -------------------------------------------------------------------"
   ]
  },
  {
   "cell_type": "markdown",
   "id": "66b5c2d1-73b3-4859-ae08-433d01326398",
   "metadata": {},
   "source": [
    "Q6. Suppose you conducted a one-way ANOVA and obtained an F-statistic of 5.23 and a p-value of 0.02.\n",
    "What can you conclude about the differences between the groups, and how would you interpret these\n",
    "results?"
   ]
  },
  {
   "cell_type": "markdown",
   "id": "95111b97-844e-4bb0-87f8-615e9e3ce4c1",
   "metadata": {},
   "source": [
    "#Answer\n",
    "In a one-way ANOVA, the F-statistic is used to test whether there are statistically significant differences among the means of the groups. The associated p-value helps determine the significance of the F-statistic. Here's how to interpret the results:\n",
    "\n",
    "* F-Statistic: The F-statistic is a ratio of the variance between groups to the variance within groups. A larger F-statistic suggests larger differences between group means relative to within-group variability. In your case, the F-statistic is 5.23.\n",
    "\n",
    "* P-Value: The p-value associated with the F-statistic indicates the probability of observing such an extreme F-statistic (or more extreme) under the null hypothesis that there are no true differences among group means. A lower p-value suggests stronger evidence against the null hypothesis. In your case, the p-value is 0.02.\n",
    "\n",
    "Now, let's interpret these results:\n",
    "\n",
    "* Null Hypothesis (H0): There are no significant differences among the group means.\n",
    "\n",
    "* Alternative Hypothesis (H1): There are significant differences among the group means.\n",
    "\n",
    "Interpretation:\n",
    "\n",
    "Given the p-value of 0.02, which is less than the commonly used significance level of 0.05, you would reject the null hypothesis. This implies that there is enough evidence to conclude that there are statistically significant differences among the group means.\n",
    "\n",
    "In practical terms, the differences between at least some of the groups are likely not due to random chance alone. However, the ANOVA itself does not identify which specific groups are different from each other. To determine this, post-hoc tests (e.g., Tukey's HSD, Bonferroni correction) or pairwise comparisons can be conducted.\n",
    "\n",
    "In summary, with an F-statistic of 5.23 and a p-value of 0.02, you would reject the null hypothesis and conclude that there are significant differences among the group means. Further analysis would be needed to identify which specific group differences are significant."
   ]
  },
  {
   "cell_type": "markdown",
   "id": "e4695672-97a6-490e-9433-52cf43a5485d",
   "metadata": {},
   "source": [
    "                       -------------------------------------------------------------------"
   ]
  },
  {
   "cell_type": "markdown",
   "id": "0edb9f15-18b3-484b-bc4b-485908d7633d",
   "metadata": {},
   "source": [
    "Q7. In a repeated measures ANOVA, how would you handle missing data, and what are the potential\n",
    "consequences of using different methods to handle missing data?"
   ]
  },
  {
   "cell_type": "markdown",
   "id": "3226a8f2-82ff-48fe-b68a-c3bdfb471e29",
   "metadata": {},
   "source": [
    "Handling missing data in a repeated measures ANOVA is crucial to obtaining accurate and reliable results. There are several methods to address missing data, and the choice of method can impact the validity and precision of your analysis. Here are common methods and their potential consequences:\n",
    "\n",
    "1. Complete Case Analysis (Listwise Deletion):\n",
    "\n",
    "* Method: Exclude any participants with missing data on any variable involved in the analysis.\n",
    "* Consequences:\n",
    "Pros: Simple and easy to implement.\n",
    "Cons: Reduces sample size, potentially leading to biased results and decreased statistical power. It assumes that missing data are missing completely at random (MCAR), which may not be realistic in many cases\n",
    "\n",
    "\n",
    "2. Pairwise Deletion:\n",
    "\n",
    "* Method: Use all available data for each pairwise comparison, excluding cases with missing data only for the specific variables being compared.\n",
    "* Consequences:\n",
    "Pros: Retains more data than listwise deletion.\n",
    "Cons: May introduce biases if the missing data pattern is not completely random. It can lead to inflated Type I error rates and imprecise parameter estimates\n",
    "\n",
    "\n",
    "4. Imputation Techniques:\n",
    "\n",
    "* Method: Estimate missing values based on observed data. Common imputation methods include mean imputation, median imputation, regression imputation, or more sophisticated methods like multiple imputation.\n",
    "* Consequences:\n",
    "Pros: Retains all cases and mitigates biases introduced by deletion methods. Can lead to more accurate parameter estimates.\n",
    "Cons: Assumes that the data are missing at random (MAR) and that the imputation model accurately represents the true underlying data distribution. If the assumptions are violated, imputation can introduce its own biases\n",
    "\n",
    "\n",
    "5. Mixed-Effects Models (MM):\n",
    "\n",
    "* Method: Fit a mixed-effects model that incorporates both fixed effects and random effects, handling missing data through maximum likelihood estimation.\n",
    "* Consequences:\n",
    "Pros: Takes advantage of all available data, provides unbiased estimates under the assumption of missing at random (MAR).\n",
    "Cons: Assumptions of MAR need to be carefully considered, and misspecification of the model can lead to biased results\n",
    "\n",
    "\n",
    "6. Potential Consequences of Handling Missing Data:\n",
    "\n",
    "* Bias: If missing data are not missing completely at random (MCAR) or missing at random (MAR), the chosen method may introduce bias to the results.\n",
    "* Reduced Power: Deletion methods can reduce the effective sample size, leading to decreased statistical power.\n",
    "* Type I Error Inflation: Pairwise deletion and other incomplete case methods can inflate Type I error rates.\n",
    "*  Model Misspecification: Imputation methods and mixed-effects models assume certain missing data mechanisms, and if these assumptions are violated, the results may be biased.\n",
    "\n",
    "\n",
    "In summary, the choice of how to handle missing data in a repeated measures ANOVA should be guided by the nature of the missing data and the assumptions that can reasonably be made about the missing data mechanism. It's important to carefully consider the potential consequences of each method and conduct sensitivity analyses when possible."
   ]
  },
  {
   "cell_type": "markdown",
   "id": "c195c9bd-aba6-49ad-a195-6b541eb54fb2",
   "metadata": {},
   "source": [
    "                        -------------------------------------------------------------------"
   ]
  },
  {
   "cell_type": "markdown",
   "id": "01d1d4c1-d2fd-46b7-b0f0-aa66da320056",
   "metadata": {},
   "source": [
    " Q8. What are some common post-hoc tests used after ANOVA, and when would you use each one? Provide\n",
    "an example of a situation where a post-hoc test might be necessary."
   ]
  },
  {
   "cell_type": "markdown",
   "id": "be1667d4-338f-4f1d-a77a-0c2efb6fafc0",
   "metadata": {},
   "source": [
    "#Answer\n",
    "\n",
    "After conducting an Analysis of Variance (ANOVA) and finding a significant difference among group means, post-hoc tests are often employed to determine which specific groups differ from each other. Some common post-hoc tests include:\n",
    "\n",
    "1. Tukey's Honestly Significant Difference (Tukey HSD):\n",
    "\n",
    "* Use Case: Tukey's HSD is appropriate when you have three or more groups and you want to conduct all possible pairwise comparisons while controlling the familywise error rate.\n",
    "* Example: In a study comparing the effectiveness of three different treatments, Tukey's HSD could be used to identify which pairs of treatments have significantly different mean outcomes.\n",
    "\n",
    "\n",
    "2. Bonferroni Correction:\n",
    "\n",
    "* Use Case: Bonferroni correction is a conservative method that adjusts the significance level for each individual comparison to control the familywise error rate.\n",
    "* Example: If you have conducted multiple pairwise comparisons, and you want to control the overall probability of making a Type I error (rejecting a null hypothesis that is true) across all comparisons, you might use Bonferroni correction.\n",
    "\n",
    "\n",
    "3. Scheffé's Test:\n",
    "\n",
    "* Use Case: Scheffé's test is a conservative method that is suitable for comparing all possible combinations of group means. It is particularly useful when the sample sizes are unequal.\n",
    "* Example: In a study where the groups have different sample sizes, and you want to compare all possible pairs of group means while controlling the overall Type I error rate, Scheffé's test could be employed\n",
    "\n",
    "\n",
    "4. Dunnett's Test:\n",
    "\n",
    "* Use Case: Dunnett's test is used when you have one control group and you want to compare all other groups to the control group.\n",
    "* Example: In a clinical trial with a control group and several treatment groups, Dunnett's test would help identify which treatment groups differ significantly from the control group\n",
    "\n",
    "\n",
    "5. Holm's Method:\n",
    "\n",
    "* Use Case: Holm's method is a stepwise procedure that controls the familywise error rate. It is less conservative than Bonferroni correction.\n",
    "* Example: If you have conducted multiple comparisons and want to control the overall Type I error rate, but you prefer a less conservative correction than Bonferroni, you might use Holm's method.\n",
    "\n",
    "\n",
    "Example Scenario:\n",
    "Consider a study examining the impact of different types of exercise on cardiovascular fitness. After conducting a one-way ANOVA, you find a significant difference among the means of three exercise groups (A, B, and C). To determine which pairs of exercise groups differ significantly from each other, you could use Tukey's HSD as a post-hoc test. This would provide adjusted confidence intervals and identify specific group differences while controlling the overall Type I error rate.\n",
    "\n",
    "In summary, the choice of post-hoc test depends on the specific goals of the analysis, the structure of the experimental design, and the assumptions being made. Researchers should carefully select a post-hoc test that is appropriate for their study design and objectives."
   ]
  },
  {
   "cell_type": "markdown",
   "id": "b80e8976-ceea-4f16-ac1d-bd21ad772805",
   "metadata": {},
   "source": [
    "                       -------------------------------------------------------------------"
   ]
  },
  {
   "cell_type": "markdown",
   "id": "f76f05b2-43bf-4941-ae67-30451d5e9095",
   "metadata": {},
   "source": [
    "Q9. A researcher wants to compare the mean weight loss of three diets: A, B, and C. They collect data from\n",
    "50 participants who were randomly assigned to one of the diets. Conduct a one-way ANOVA using Python\n",
    "to determine if there are any significant differences between the mean weight loss of the three diets.\n",
    "Report the F-statistic and p-value, and interpret the results."
   ]
  },
  {
   "cell_type": "code",
   "execution_count": 5,
   "id": "2a24cf2a-7fc2-4882-80c7-b7e49942c8a7",
   "metadata": {},
   "outputs": [
    {
     "name": "stdout",
     "output_type": "stream",
     "text": [
      "F-statistic: 16.574213049400626\n",
      "P-value: 3.2283781469409867e-07\n",
      "There is significant evidence to reject the null hypothesis.\n",
      "At least one diet has a different mean weight loss compared to the others.\n"
     ]
    }
   ],
   "source": [
    "import numpy as np\n",
    "from scipy.stats import f_oneway\n",
    "\n",
    "# Generate example data for weight loss in three diet groups\n",
    "np.random.seed(42)\n",
    "diet_A = np.random.normal(5, 2, 50)  # mean=5, standard deviation=2\n",
    "diet_B = np.random.normal(6, 2, 50)  # mean=6, standard deviation=2\n",
    "diet_C = np.random.normal(4, 2, 50)  # mean=4, standard deviation=2\n",
    "\n",
    "# Combine data into a single array\n",
    "weight_loss_data = np.concatenate([diet_A, diet_B, diet_C])\n",
    "\n",
    "# Create group labels for each observation\n",
    "group_labels = np.repeat(['A', 'B', 'C'], 50)\n",
    "\n",
    "# Perform one-way ANOVA\n",
    "f_statistic, p_value = f_oneway(diet_A, diet_B, diet_C)\n",
    "\n",
    "# Display results\n",
    "print(f'F-statistic: {f_statistic}')\n",
    "print(f'P-value: {p_value}')\n",
    "\n",
    "# Interpretation\n",
    "if p_value < 0.05:\n",
    "    print(\"There is significant evidence to reject the null hypothesis.\")\n",
    "    print(\"At least one diet has a different mean weight loss compared to the others.\")\n",
    "else:\n",
    "    print(\"There is not enough evidence to reject the null hypothesis.\")\n",
    "    print(\"There are no significant differences detected among the mean weight loss of the diets.\")\n"
   ]
  },
  {
   "cell_type": "markdown",
   "id": "34ec31e1-1cc1-4637-8003-147fdeb0de61",
   "metadata": {},
   "source": [
    "                       -------------------------------------------------------------------"
   ]
  },
  {
   "cell_type": "markdown",
   "id": "15f459f7-f233-4174-a4c0-2b65528f6f88",
   "metadata": {},
   "source": [
    "Q10. A company wants to know if there are any significant differences in the average time it takes to\n",
    "complete a task using three different software programs: Program A, Program B, and Program C. They\n",
    "randomly assign 30 employees to one of the programs and record the time it takes each employee to\n",
    "complete the task. Conduct a two-way ANOVA using Python to determine if there are any main effects or\n",
    "interaction effects between the software programs and employee experience level (novice vs.\n",
    "experienced). Report the F-statistics and p-values, and interpret the results."
   ]
  },
  {
   "cell_type": "code",
   "execution_count": 6,
   "id": "d7952521-7ed6-486d-a1aa-73694a88d059",
   "metadata": {},
   "outputs": [
    {
     "name": "stdout",
     "output_type": "stream",
     "text": [
      "                         sum_sq    df         F    PR(>F)\n",
      "Software               1.438694   2.0  0.204844  0.815180\n",
      "Experience             4.964694   1.0  1.413768  0.237782\n",
      "Software:Experience    9.805933   2.0  1.396190  0.253223\n",
      "Residual             294.980666  84.0       NaN       NaN\n"
     ]
    }
   ],
   "source": [
    "import pandas as pd\n",
    "import statsmodels.api as sm\n",
    "from statsmodels.formula.api import ols\n",
    "\n",
    "# Generate example data\n",
    "np.random.seed(42)\n",
    "data = pd.DataFrame({\n",
    "    'Time': np.random.normal(loc=10, scale=2, size=90),  # Example time data\n",
    "    'Software': np.tile(['A', 'B', 'C'], 30),\n",
    "    'Experience': np.repeat(['Novice', 'Experienced'], 45)\n",
    "})\n",
    "\n",
    "# Fit the two-way ANOVA model\n",
    "model = ols('Time ~ Software + Experience + Software:Experience', data=data).fit()\n",
    "anova_table = sm.stats.anova_lm(model, typ=2)  # typ=2 for type 2 sum of squares\n",
    "\n",
    "# Display results\n",
    "print(anova_table)\n"
   ]
  },
  {
   "cell_type": "markdown",
   "id": "212ae4fe-5e2f-4919-b074-6cfd8e156943",
   "metadata": {},
   "source": [
    "                       -------------------------------------------------------------------"
   ]
  },
  {
   "cell_type": "markdown",
   "id": "fdea76de-f8c6-4892-8c88-ab72c2242729",
   "metadata": {},
   "source": [
    "Q11. An educational researcher is interested in whether a new teaching method improves student test\n",
    "scores. They randomly assign 100 students to either the control group (traditional teaching method) or the\n",
    "experimental group (new teaching method) and administer a test at the end of the semester. Conduct a\n",
    "two-sample t-test using Python to determine if there are any significant differences in test scores\n",
    "between the two groups. If the results are significant, follow up with a post-hoc test to determine which\n",
    "group(s) differ significantly from each other."
   ]
  },
  {
   "cell_type": "code",
   "execution_count": 9,
   "id": "1e8d3052-6725-4b2b-b5e5-f2c60a030583",
   "metadata": {},
   "outputs": [
    {
     "name": "stdout",
     "output_type": "stream",
     "text": [
      "Two-sample t-test results:\n",
      "T-statistic: -4.754695943505281\n",
      "P-value: 3.819135262679478e-06\n",
      "\n",
      "Post-hoc test (Tukey's HSD) results:\n",
      "  Multiple Comparison of Means - Tukey HSD, FWER=0.05   \n",
      "========================================================\n",
      " group1    group2    meandiff p-adj lower  upper  reject\n",
      "--------------------------------------------------------\n",
      "Control Experimental   6.2615   0.0 3.6645 8.8585   True\n",
      "--------------------------------------------------------\n"
     ]
    },
    {
     "data": {
      "image/png": "[encoded data removed]",
      "text/plain": [
       "<Figure size 1000x600 with 1 Axes>"
      ]
     },
     "metadata": {},
     "output_type": "display_data"
    }
   ],
   "source": [
    "import numpy as np\n",
    "from scipy.stats import ttest_ind\n",
    "import statsmodels.stats.multicomp as mc\n",
    "import matplotlib.pyplot as plt\n",
    "\n",
    "# Generate example data\n",
    "np.random.seed(42)\n",
    "control_group = np.random.normal(70, 10, 100)  # Example control group scores\n",
    "experimental_group = np.random.normal(75, 10, 100)  # Example experimental group scores\n",
    "\n",
    "# Perform two-sample t-test\n",
    "t_statistic, p_value = ttest_ind(control_group, experimental_group)\n",
    "\n",
    "# Display t-test results\n",
    "print(f'Two-sample t-test results:')\n",
    "print(f'T-statistic: {t_statistic}')\n",
    "print(f'P-value: {p_value}')\n",
    "\n",
    "# Follow up with post-hoc test (e.g., Tukey's HSD)\n",
    "if p_value < 0.05:\n",
    "    # If the t-test is significant, perform post-hoc test\n",
    "    data = np.concatenate([control_group, experimental_group])\n",
    "    groups = np.concatenate([np.repeat('Control', 100), np.repeat('Experimental', 100)])\n",
    "\n",
    "    posthoc = mc.MultiComparison(data, groups)\n",
    "    result = posthoc.tukeyhsd()\n",
    "\n",
    "    # Display post-hoc results\n",
    "    print('\\nPost-hoc test (Tukey\\'s HSD) results:')\n",
    "    print(result)\n",
    "\n",
    "    # Plot the results\n",
    "    fig = result.plot_simultaneous(comparison_name='Control', ylabel='Test Scores')\n",
    "    plt.show()\n"
   ]
  },
  {
   "cell_type": "markdown",
   "id": "5eb27573-fd9f-4ccb-961a-07d40dde326c",
   "metadata": {},
   "source": [
    "                       -------------------------------------------------------------------"
   ]
  },
  {
   "cell_type": "markdown",
   "id": "e13cf354-1706-4c6e-ab66-a5746bb29fc5",
   "metadata": {},
   "source": [
    "Q12. A researcher wants to know if there are any significant differences in the average daily sales of three\n",
    "retail stores: Store A, Store B, and Store C. They randomly select 30 days and record the sales for each store\n",
    "on those days. Conduct a repeated measures ANOVA using Python to determine if there are any\n",
    "significant differences in sales between the three stores. If the results are significant, follow up with a posthoc test to determine which store(s) differ significantly from each other."
   ]
  },
  {
   "cell_type": "code",
   "execution_count": 11,
   "id": "b02cf385-bc77-4f5f-9c51-6ad3e2ff73e7",
   "metadata": {},
   "outputs": [
    {
     "name": "stdout",
     "output_type": "stream",
     "text": [
      "Repeated Measures ANOVA Results:\n",
      "               Anova\n",
      "===================================\n",
      "      F Value Num DF  Den DF Pr > F\n",
      "-----------------------------------\n",
      "Store  0.1761 2.0000 58.0000 0.8390\n",
      "===================================\n",
      "\n"
     ]
    }
   ],
   "source": [
    "import numpy as np\n",
    "import pandas as pd\n",
    "import statsmodels.api as sm\n",
    "from statsmodels.stats.anova import AnovaRM\n",
    "from statsmodels.stats.multicomp import pairwise_tukeyhsd\n",
    "\n",
    "# Generate example data\n",
    "np.random.seed(42)\n",
    "days = np.arange(1, 31)\n",
    "sales_store_A = np.random.normal(100, 10, 30)\n",
    "sales_store_B = np.random.normal(110, 15, 30)\n",
    "sales_store_C = np.random.normal(90, 8, 30)\n",
    "\n",
    "# Create a DataFrame\n",
    "data = pd.DataFrame({\n",
    "    'Day': np.repeat(days, 3),\n",
    "    'Sales': np.concatenate([sales_store_A, sales_store_B, sales_store_C]),\n",
    "    'Store': np.tile(['A', 'B', 'C'], 30)\n",
    "})\n",
    "\n",
    "# Perform repeated measures ANOVA\n",
    "rm_anova = AnovaRM(data, 'Sales', 'Day', within=['Store'])\n",
    "results = rm_anova.fit()\n",
    "\n",
    "# Display repeated measures ANOVA results\n",
    "print(\"Repeated Measures ANOVA Results:\")\n",
    "print(results)\n",
    "\n",
    "# Follow up with post-hoc test (e.g., Tukey's HSD)\n",
    "if results.anova_table['Pr > F']['Store'] < 0.05:\n",
    "    posthoc = pairwise_tukeyhsd(data['Sales'], data['Store'])\n",
    "    print(\"\\nPost-hoc test (Tukey's HSD) results:\")\n",
    "    print(posthoc.summary())\n"
   ]
  },
  {
   "cell_type": "markdown",
   "id": "cb8a8138-3a8b-485b-9851-24378cad03e8",
   "metadata": {},
   "source": [
    "                       -------------------------------------------------------------------"
   ]
  }
 ],
 "metadata": {
  "kernelspec": {
   "display_name": "Python 3 (ipykernel)",
   "language": "python",
   "name": "python3"
  },
  "language_info": {
   "codemirror_mode": {
    "name": "ipython",
    "version": 3
   },
   "file_extension": ".py",
   "mimetype": "text/x-python",
   "name": "python",
   "nbconvert_exporter": "python",
   "pygments_lexer": "ipython3",
   "version": "3.10.8"
  }
 },
 "nbformat": 4,
 "nbformat_minor": 5
}
